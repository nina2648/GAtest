{
  "nbformat": 4,
  "nbformat_minor": 0,
  "metadata": {
    "colab": {
      "name": "Plan190704.py",
      "provenance": [],
      "include_colab_link": true
    },
    "kernelspec": {
      "name": "python3",
      "display_name": "Python 3"
    }
  },
  "cells": [
    {
      "cell_type": "markdown",
      "metadata": {
        "id": "view-in-github",
        "colab_type": "text"
      },
      "source": [
        "<a href=\"https://colab.research.google.com/github/nina2648/GAtest/blob/main/PlanModule190704.ipynb\" target=\"_parent\"><img src=\"https://colab.research.google.com/assets/colab-badge.svg\" alt=\"Open In Colab\"/></a>"
      ]
    },
    {
      "cell_type": "code",
      "metadata": {
        "id": "6jDbE5JrXrRh",
        "outputId": "b25bb7d0-f9a0-457b-b502-8c26ab33cea5",
        "colab": {
          "base_uri": "https://localhost:8080/",
          "height": 437
        }
      },
      "source": [
        "import numpy as np  \n",
        "from keras.models import Sequential\n",
        "from keras.datasets import mnist\n",
        "from keras.layers import Dense, Dropout, Activation, Flatten\n",
        "from keras.utils import np_utils  #將label轉為one-hot-encoding  \n",
        "from matplotlib import pyplot as plt\n",
        "\n",
        "# 載入MNIST資料庫的訓練資料，並自動訓練及測試\n",
        "(X_train, y_train), (X_test, y_test) = mnist.load_data()\n",
        "\n",
        "\n",
        "# 線性的模型\n",
        "model = Sequential()\n",
        "# Add Input layer\n",
        "model.add(Dense(units=256, input_dim=784, kernel_initializer='normal', activation='relu')) \n",
        "# Add output layer\n",
        "model.add(Dense(units=10, kernel_initializer='normal', activation='softmax'))\n",
        "\n",
        "# 選擇損失函數、優化方法及成效衡量方式\n",
        "model.compile(loss='categorical_crossentropy', optimizer='adam', metrics=['accuracy']) \n",
        "\n",
        "# 將 training 的 label 進行 one-hot encoding\n",
        "y_TrainOneHot = np_utils.to_categorical(y_train) \n",
        "y_TestOneHot = np_utils.to_categorical(y_test) \n",
        "\n",
        "# training input 資料轉2維\n",
        "X_train_2D = X_train.reshape(60000, 28*28).astype('float32')  \n",
        "X_test_2D = X_test.reshape(10000, 28*28).astype('float32')  \n",
        "\n",
        "x_Train_norm = X_train_2D/255\n",
        "x_Test_norm = X_test_2D/255\n",
        "\n",
        "# 進行訓練, 訓練過程會存在 train_history 變數中\n",
        "train_history = model.fit(x=x_Train_norm, y=y_TrainOneHot, validation_split=0.2, epochs=10, batch_size=800, verbose=2)  \n",
        "\n",
        "# 顯示訓練成果(分數)\n",
        "scores = model.evaluate(x_Test_norm, y_TestOneHot)  \n",
        "print()  \n",
        "print(\"\\t[Info] Accuracy of testing data = {:2.1f}%\".format(scores[1]*100.0))  \n",
        "\n",
        "# 預測(prediction)\n",
        "X = x_Test_norm[0:10,:]\n",
        "predictions = model.predict_classes(X)\n",
        "# get prediction result\n",
        "print(predictions)\n",
        "\n",
        "# 模型結構存檔\n",
        "from keras.models import model_from_json\n",
        "json_string = model.to_json()\n",
        "with open(\"model.config\", \"w\") as text_file:\n",
        "    text_file.write(json_string)\n",
        "\n",
        "    \n",
        "# 模型訓練結果存檔\n",
        "model.save_weights(\"model.weight\")\n"
      ],
      "execution_count": null,
      "outputs": [
        {
          "output_type": "stream",
          "text": [
            "Train on 48000 samples, validate on 12000 samples\n",
            "Epoch 1/10\n",
            " - 2s - loss: 0.8200 - acc: 0.7936 - val_loss: 0.3300 - val_acc: 0.9083\n",
            "Epoch 2/10\n",
            " - 1s - loss: 0.3057 - acc: 0.9141 - val_loss: 0.2541 - val_acc: 0.9307\n",
            "Epoch 3/10\n",
            " - 1s - loss: 0.2444 - acc: 0.9315 - val_loss: 0.2135 - val_acc: 0.9427\n",
            "Epoch 4/10\n",
            " - 1s - loss: 0.2026 - acc: 0.9437 - val_loss: 0.1826 - val_acc: 0.9511\n",
            "Epoch 5/10\n",
            " - 1s - loss: 0.1718 - acc: 0.9517 - val_loss: 0.1646 - val_acc: 0.9549\n",
            "Epoch 6/10\n",
            " - 1s - loss: 0.1476 - acc: 0.9592 - val_loss: 0.1484 - val_acc: 0.9596\n",
            "Epoch 7/10\n",
            " - 1s - loss: 0.1295 - acc: 0.9639 - val_loss: 0.1387 - val_acc: 0.9609\n",
            "Epoch 8/10\n",
            " - 1s - loss: 0.1146 - acc: 0.9685 - val_loss: 0.1273 - val_acc: 0.9622\n",
            "Epoch 9/10\n",
            " - 1s - loss: 0.1016 - acc: 0.9729 - val_loss: 0.1184 - val_acc: 0.9670\n",
            "Epoch 10/10\n",
            " - 1s - loss: 0.0908 - acc: 0.9758 - val_loss: 0.1118 - val_acc: 0.9663\n",
            "10000/10000 [==============================] - 0s 33us/step\n",
            "\n",
            "\t[Info] Accuracy of testing data = 96.8%\n",
            "[7 2 1 0 4 1 4 9 6 9]\n"
          ],
          "name": "stdout"
        }
      ]
    }
  ]
}